{
 "cells": [
  {
   "cell_type": "code",
   "execution_count": 2,
   "id": "f99d1877",
   "metadata": {},
   "outputs": [],
   "source": [
    "import boto3"
   ]
  },
  {
   "cell_type": "code",
   "execution_count": 4,
   "id": "d8015bae",
   "metadata": {},
   "outputs": [],
   "source": [
    "s3 = boto3.resource('s3',\n",
    "    region_name='us-west-2')"
   ]
  },
  {
   "cell_type": "code",
   "execution_count": 5,
   "id": "6a0179c7",
   "metadata": {},
   "outputs": [
    {
     "name": "stdout",
     "output_type": "stream",
     "text": [
      "An error occurred (BucketAlreadyOwnedByYou) when calling the CreateBucket operation: Your previous request to create the named bucket succeeded and you already own it.\n"
     ]
    }
   ],
   "source": [
    "try:\n",
    "    s3.create_bucket(Bucket='bucket-14828-hw2-yingdong', CreateBucketConfiguration={\n",
    "    'LocationConstraint': 'us-west-2'}) \n",
    "except Exception as e:\n",
    "    print (e)"
   ]
  },
  {
   "cell_type": "code",
   "execution_count": 6,
   "id": "f9445e77",
   "metadata": {},
   "outputs": [
    {
     "data": {
      "text/plain": [
       "{'ResponseMetadata': {'RequestId': 'GCY3NFARMEY0F0B6',\n",
       "  'HostId': '/qLVOEY6LQ5l4sA3ykQ6pgdJn0Xl35T7GPSdpcuiwPq6GkAid8egFzyNqP9bjqLS5Cim0etkmTA=',\n",
       "  'HTTPStatusCode': 200,\n",
       "  'HTTPHeaders': {'x-amz-id-2': '/qLVOEY6LQ5l4sA3ykQ6pgdJn0Xl35T7GPSdpcuiwPq6GkAid8egFzyNqP9bjqLS5Cim0etkmTA=',\n",
       "   'x-amz-request-id': 'GCY3NFARMEY0F0B6',\n",
       "   'date': 'Tue, 19 Oct 2021 23:45:18 GMT',\n",
       "   'server': 'AmazonS3',\n",
       "   'content-length': '0'},\n",
       "  'RetryAttempts': 0}}"
      ]
     },
     "execution_count": 6,
     "metadata": {},
     "output_type": "execute_result"
    }
   ],
   "source": [
    "bucket = s3.Bucket(\"bucket-14828-hw2-yingdong\")\n",
    "bucket.Acl().put(ACL='public-read')"
   ]
  },
  {
   "cell_type": "code",
   "execution_count": 6,
   "id": "1bc36731",
   "metadata": {},
   "outputs": [],
   "source": [
    "body = open('./exp1.csv', 'rb')"
   ]
  },
  {
   "cell_type": "code",
   "execution_count": 7,
   "id": "2848f719",
   "metadata": {},
   "outputs": [],
   "source": [
    "o = s3.Object('bucket-14828-hw2-yingdong', 'test').put(Body=body )"
   ]
  },
  {
   "cell_type": "code",
   "execution_count": 8,
   "id": "78d05cc0",
   "metadata": {},
   "outputs": [
    {
     "data": {
      "text/plain": [
       "{'ResponseMetadata': {'RequestId': 'P7404X0KFZZPRZMQ',\n",
       "  'HostId': 'LafaZFpHLK0D0qWHq/+fFEzWB14FvRr7Zc87ebhAizfgDRKwH/HV7X+Y5ZCeXoS29BxIO0fsbec=',\n",
       "  'HTTPStatusCode': 200,\n",
       "  'HTTPHeaders': {'x-amz-id-2': 'LafaZFpHLK0D0qWHq/+fFEzWB14FvRr7Zc87ebhAizfgDRKwH/HV7X+Y5ZCeXoS29BxIO0fsbec=',\n",
       "   'x-amz-request-id': 'P7404X0KFZZPRZMQ',\n",
       "   'date': 'Mon, 18 Oct 2021 22:14:06 GMT',\n",
       "   'server': 'AmazonS3',\n",
       "   'content-length': '0'},\n",
       "  'RetryAttempts': 0}}"
      ]
     },
     "execution_count": 8,
     "metadata": {},
     "output_type": "execute_result"
    }
   ],
   "source": [
    "s3.Object('bucket-14828-hw2-yingdong', 'test').Acl().put(ACL='public-read')"
   ]
  },
  {
   "cell_type": "code",
   "execution_count": 7,
   "id": "b2cccd9d",
   "metadata": {},
   "outputs": [],
   "source": [
    "dyndb = boto3.resource('dynamodb',\n",
    "    region_name='us-west-2')"
   ]
  },
  {
   "cell_type": "code",
   "execution_count": 16,
   "id": "3a2e1cdd",
   "metadata": {},
   "outputs": [],
   "source": [
    "try:\n",
    "    table = dyndb.create_table(\n",
    "        TableName='DataTable', \n",
    "        KeySchema=[\n",
    "                {\n",
    "                    'AttributeName': 'PartitionKey',\n",
    "                    'KeyType': 'HASH'\n",
    "                }, \n",
    "                {\n",
    "                    'AttributeName': 'RowKey',\n",
    "                    'KeyType': 'RANGE'\n",
    "                }\n",
    "        ], \n",
    "        AttributeDefinitions=[\n",
    "                {\n",
    "                    'AttributeName': 'PartitionKey',\n",
    "                    'AttributeType': 'S'\n",
    "                }, \n",
    "                {\n",
    "                    'AttributeName': 'RowKey',\n",
    "                    'AttributeType': 'S'\n",
    "                },\n",
    "        ], \n",
    "        ProvisionedThroughput={\n",
    "            'ReadCapacityUnits': 5,\n",
    "            'WriteCapacityUnits': 5\n",
    "        }\n",
    "    )\n",
    "except Exception as e:\n",
    "    print (e)\n",
    "    #if there is an exception, the table may already exist.\n",
    "    table = dyndb.Table(\"DataTable\")"
   ]
  },
  {
   "cell_type": "code",
   "execution_count": 17,
   "id": "00739df8",
   "metadata": {},
   "outputs": [],
   "source": [
    "table.meta.client.get_waiter('table_exists').wait(TableName='DataTable')"
   ]
  },
  {
   "cell_type": "code",
   "execution_count": 18,
   "id": "8db7dfda",
   "metadata": {},
   "outputs": [
    {
     "name": "stdout",
     "output_type": "stream",
     "text": [
      "0\n"
     ]
    }
   ],
   "source": [
    "print(table.item_count)"
   ]
  },
  {
   "cell_type": "code",
   "execution_count": 19,
   "id": "a8aef688",
   "metadata": {},
   "outputs": [],
   "source": [
    "import csv"
   ]
  },
  {
   "cell_type": "code",
   "execution_count": 31,
   "id": "e9973958",
   "metadata": {},
   "outputs": [
    {
     "name": "stdout",
     "output_type": "stream",
     "text": [
      "['1', '-1', '52', '3.4', 'exp1.csv']\n",
      "['2', '-2', '52.1', '3.4', 'exp2.csv']\n",
      "['3', '-2.93', '57.1', '3.7', 'exp3.csv']\n"
     ]
    }
   ],
   "source": [
    "with open('./experiments.csv', 'rt') as csvfile:\n",
    "    csvf = csv.reader(csvfile, delimiter=',', quotechar='|')\n",
    "    next(csvf)\n",
    "    for item in csvf:\n",
    "        print(item)\n",
    "        body = open(item[4], 'rb')\n",
    "        s3.Object('bucket-14828-hw2-yingdong', item[4]).put(Body=body)\n",
    "        url = \" https://s3-us-west-2.amazonaws.com/bucket-14828-hw2-yingdong/\"+item[4]\n",
    "        metadata_item = {'PartitionKey': item[4], 'RowKey': item[0],\n",
    "                'Temp' : item[1], 'Conductivity' : item[2], 'Concentration': item[3],'url':url}\n",
    "        try: \n",
    "            table.put_item(Item=metadata_item)\n",
    "        except:\n",
    "            print('item may already be there or another failure')"
   ]
  },
  {
   "cell_type": "code",
   "execution_count": 10,
   "id": "b13ae0b8",
   "metadata": {},
   "outputs": [
    {
     "name": "stdout",
     "output_type": "stream",
     "text": [
      "{'Temp': '-1', 'RowKey': '1', 'Conductivity': '52', 'Concentration': '3.4', 'PartitionKey': 'exp1.csv', 'url': ' https://s3-us-west-2.amazonaws.com/bucket-14828-hw2-yingdong/exp1.csv'}\n"
     ]
    }
   ],
   "source": [
    "response = table.get_item( Key={\n",
    "        'PartitionKey': 'exp1.csv',\n",
    "        'RowKey': '1'\n",
    "    }\n",
    ")\n",
    "item = response['Item'] \n",
    "print(item)"
   ]
  },
  {
   "cell_type": "code",
   "execution_count": 33,
   "id": "75631de5",
   "metadata": {},
   "outputs": [
    {
     "data": {
      "text/plain": [
       "{'Item': {'Temp': '-1',\n",
       "  'RowKey': '1',\n",
       "  'Conductivity': '52',\n",
       "  'Concentration': '3.4',\n",
       "  'PartitionKey': 'exp1.csv',\n",
       "  'url': ' https://s3-us-west-2.amazonaws.com/bucket-14828-hw2-yingdong/exp1.csv'},\n",
       " 'ResponseMetadata': {'RequestId': '9FGP3S8EQKPOEHEIM2ENK339B3VV4KQNSO5AEMVJF66Q9ASUAAJG',\n",
       "  'HTTPStatusCode': 200,\n",
       "  'HTTPHeaders': {'server': 'Server',\n",
       "   'date': 'Mon, 18 Oct 2021 23:06:33 GMT',\n",
       "   'content-type': 'application/x-amz-json-1.0',\n",
       "   'content-length': '218',\n",
       "   'connection': 'keep-alive',\n",
       "   'x-amzn-requestid': '9FGP3S8EQKPOEHEIM2ENK339B3VV4KQNSO5AEMVJF66Q9ASUAAJG',\n",
       "   'x-amz-crc32': '657836644'},\n",
       "  'RetryAttempts': 0}}"
      ]
     },
     "execution_count": 33,
     "metadata": {},
     "output_type": "execute_result"
    }
   ],
   "source": [
    "response"
   ]
  },
  {
   "cell_type": "code",
   "execution_count": 11,
   "id": "e8f429b9",
   "metadata": {},
   "outputs": [
    {
     "name": "stdout",
     "output_type": "stream",
     "text": [
      "{'Temp': '-2', 'RowKey': '2', 'Conductivity': '52.1', 'Concentration': '3.4', 'PartitionKey': 'exp2.csv', 'url': ' https://s3-us-west-2.amazonaws.com/bucket-14828-hw2-yingdong/exp2.csv'}\n"
     ]
    }
   ],
   "source": [
    "response = table.get_item( Key={\n",
    "        'PartitionKey': 'exp2.csv',\n",
    "        'RowKey': '2'\n",
    "    }\n",
    ")\n",
    "item = response['Item'] \n",
    "print(item)"
   ]
  },
  {
   "cell_type": "code",
   "execution_count": 12,
   "id": "69c925a3",
   "metadata": {},
   "outputs": [
    {
     "data": {
      "text/plain": [
       "{'Item': {'Temp': '-2',\n",
       "  'RowKey': '2',\n",
       "  'Conductivity': '52.1',\n",
       "  'Concentration': '3.4',\n",
       "  'PartitionKey': 'exp2.csv',\n",
       "  'url': ' https://s3-us-west-2.amazonaws.com/bucket-14828-hw2-yingdong/exp2.csv'},\n",
       " 'ResponseMetadata': {'RequestId': '3U6GQ6AFTTTEE753SRVACAAUANVV4KQNSO5AEMVJF66Q9ASUAAJG',\n",
       "  'HTTPStatusCode': 200,\n",
       "  'HTTPHeaders': {'server': 'Server',\n",
       "   'date': 'Tue, 19 Oct 2021 23:48:59 GMT',\n",
       "   'content-type': 'application/x-amz-json-1.0',\n",
       "   'content-length': '220',\n",
       "   'connection': 'keep-alive',\n",
       "   'x-amzn-requestid': '3U6GQ6AFTTTEE753SRVACAAUANVV4KQNSO5AEMVJF66Q9ASUAAJG',\n",
       "   'x-amz-crc32': '3997739013'},\n",
       "  'RetryAttempts': 0}}"
      ]
     },
     "execution_count": 12,
     "metadata": {},
     "output_type": "execute_result"
    }
   ],
   "source": [
    "response"
   ]
  },
  {
   "cell_type": "code",
   "execution_count": 13,
   "id": "ab9b20c1",
   "metadata": {},
   "outputs": [
    {
     "name": "stdout",
     "output_type": "stream",
     "text": [
      "{'Temp': '-2.93', 'RowKey': '3', 'Conductivity': '57.1', 'Concentration': '3.7', 'PartitionKey': 'exp3.csv', 'url': ' https://s3-us-west-2.amazonaws.com/bucket-14828-hw2-yingdong/exp3.csv'}\n"
     ]
    }
   ],
   "source": [
    "response = table.get_item( Key={\n",
    "        'PartitionKey': 'exp3.csv',\n",
    "        'RowKey': '3'\n",
    "    }\n",
    ")\n",
    "item = response['Item'] \n",
    "print(item)"
   ]
  },
  {
   "cell_type": "code",
   "execution_count": 14,
   "id": "4eb543ed",
   "metadata": {},
   "outputs": [
    {
     "data": {
      "text/plain": [
       "{'Item': {'Temp': '-2.93',\n",
       "  'RowKey': '3',\n",
       "  'Conductivity': '57.1',\n",
       "  'Concentration': '3.7',\n",
       "  'PartitionKey': 'exp3.csv',\n",
       "  'url': ' https://s3-us-west-2.amazonaws.com/bucket-14828-hw2-yingdong/exp3.csv'},\n",
       " 'ResponseMetadata': {'RequestId': 'MNC5JQNUOLFGT4TG0RV32JIG8JVV4KQNSO5AEMVJF66Q9ASUAAJG',\n",
       "  'HTTPStatusCode': 200,\n",
       "  'HTTPHeaders': {'server': 'Server',\n",
       "   'date': 'Tue, 19 Oct 2021 23:52:28 GMT',\n",
       "   'content-type': 'application/x-amz-json-1.0',\n",
       "   'content-length': '223',\n",
       "   'connection': 'keep-alive',\n",
       "   'x-amzn-requestid': 'MNC5JQNUOLFGT4TG0RV32JIG8JVV4KQNSO5AEMVJF66Q9ASUAAJG',\n",
       "   'x-amz-crc32': '3655119686'},\n",
       "  'RetryAttempts': 0}}"
      ]
     },
     "execution_count": 14,
     "metadata": {},
     "output_type": "execute_result"
    }
   ],
   "source": [
    "response"
   ]
  },
  {
   "cell_type": "code",
   "execution_count": null,
   "id": "dc2650c6",
   "metadata": {},
   "outputs": [],
   "source": []
  }
 ],
 "metadata": {
  "kernelspec": {
   "display_name": "Python 3 (ipykernel)",
   "language": "python",
   "name": "python3"
  },
  "language_info": {
   "codemirror_mode": {
    "name": "ipython",
    "version": 3
   },
   "file_extension": ".py",
   "mimetype": "text/x-python",
   "name": "python",
   "nbconvert_exporter": "python",
   "pygments_lexer": "ipython3",
   "version": "3.8.5"
  }
 },
 "nbformat": 4,
 "nbformat_minor": 5
}
